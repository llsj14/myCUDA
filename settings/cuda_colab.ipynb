{
  "nbformat": 4,
  "nbformat_minor": 0,
  "metadata": {
    "colab": {
      "provenance": [],
      "gpuType": "T4",
      "authorship_tag": "ABX9TyM0aPH9sHNeiXsVwGgwlukz"
    },
    "kernelspec": {
      "name": "python3",
      "display_name": "Python 3"
    },
    "language_info": {
      "name": "python"
    },
    "accelerator": "GPU"
  },
  "cells": [
    {
      "cell_type": "markdown",
      "source": [
        "# Prerequisites\n",
        "\n",
        "## Utilize GPU\n",
        "\n",
        "To utilize the T4 GPU for your work, navigate to 'Runtime > Change runtime type > (Select) T4 GPU'.\n",
        "\n",
        "Ensure to verify GPU settings and configurations."
      ],
      "metadata": {
        "id": "Ofdk626g-DPI"
      }
    },
    {
      "cell_type": "code",
      "execution_count": 29,
      "metadata": {
        "id": "ANTldjo54lWV",
        "outputId": "20135e5f-9c0a-4f06-dd6d-70d887a01941",
        "colab": {
          "base_uri": "https://localhost:8080/"
        }
      },
      "outputs": [
        {
          "output_type": "stream",
          "name": "stdout",
          "text": [
            "Sun Apr 28 10:28:39 2024       \n",
            "+---------------------------------------------------------------------------------------+\n",
            "| NVIDIA-SMI 535.104.05             Driver Version: 535.104.05   CUDA Version: 12.2     |\n",
            "|-----------------------------------------+----------------------+----------------------+\n",
            "| GPU  Name                 Persistence-M | Bus-Id        Disp.A | Volatile Uncorr. ECC |\n",
            "| Fan  Temp   Perf          Pwr:Usage/Cap |         Memory-Usage | GPU-Util  Compute M. |\n",
            "|                                         |                      |               MIG M. |\n",
            "|=========================================+======================+======================|\n",
            "|   0  Tesla T4                       Off | 00000000:00:04.0 Off |                    0 |\n",
            "| N/A   40C    P8              11W /  70W |      0MiB / 15360MiB |      0%      Default |\n",
            "|                                         |                      |                  N/A |\n",
            "+-----------------------------------------+----------------------+----------------------+\n",
            "                                                                                         \n",
            "+---------------------------------------------------------------------------------------+\n",
            "| Processes:                                                                            |\n",
            "|  GPU   GI   CI        PID   Type   Process name                            GPU Memory |\n",
            "|        ID   ID                                                             Usage      |\n",
            "|=======================================================================================|\n",
            "|  No running processes found                                                           |\n",
            "+---------------------------------------------------------------------------------------+\n",
            "nvcc: NVIDIA (R) Cuda compiler driver\n",
            "Copyright (c) 2005-2023 NVIDIA Corporation\n",
            "Built on Tue_Aug_15_22:02:13_PDT_2023\n",
            "Cuda compilation tools, release 12.2, V12.2.140\n",
            "Build cuda_12.2.r12.2/compiler.33191640_0\n"
          ]
        }
      ],
      "source": [
        "!nvidia-smi\n",
        "!nvcc --version"
      ]
    },
    {
      "cell_type": "markdown",
      "source": [
        "## Installation"
      ],
      "metadata": {
        "id": "8aqt7MLN-3vT"
      }
    },
    {
      "cell_type": "markdown",
      "source": [
        "Install and load [nvcc4jupyter](https://github.com/andreinechaev/nvcc4jupyter) which is CUDA C++ plugin for Jupyter Notebook"
      ],
      "metadata": {
        "id": "izleLeJ6Qzhi"
      }
    },
    {
      "cell_type": "code",
      "source": [
        "!pip install nvcc4jupyter"
      ],
      "metadata": {
        "id": "DA0DTE3V_xsS",
        "outputId": "889666d3-7fab-4155-fb6a-67a7f27bb9d0",
        "colab": {
          "base_uri": "https://localhost:8080/"
        }
      },
      "execution_count": 31,
      "outputs": [
        {
          "output_type": "stream",
          "name": "stdout",
          "text": [
            "Collecting nvcc4jupyter\n",
            "  Downloading nvcc4jupyter-1.2.1-py3-none-any.whl (10 kB)\n",
            "Installing collected packages: nvcc4jupyter\n",
            "Successfully installed nvcc4jupyter-1.2.1\n"
          ]
        }
      ]
    },
    {
      "cell_type": "code",
      "source": [
        "%load_ext nvcc4jupyter"
      ],
      "metadata": {
        "id": "djpc_36zQyLu",
        "outputId": "d31500a0-005a-4ee0-b614-61522113bcd5",
        "colab": {
          "base_uri": "https://localhost:8080/"
        }
      },
      "execution_count": 35,
      "outputs": [
        {
          "output_type": "stream",
          "name": "stdout",
          "text": [
            "The nvcc4jupyter extension is already loaded. To reload it, use:\n",
            "  %reload_ext nvcc4jupyter\n"
          ]
        }
      ]
    },
    {
      "cell_type": "markdown",
      "source": [
        "# Run CUDA code\n",
        "\n",
        "You can run CUDA code."
      ],
      "metadata": {
        "id": "1AJZmjScRvUO"
      }
    },
    {
      "cell_type": "code",
      "source": [
        "%%cuda\n",
        "#include <iostream>\n",
        "\n",
        "__global__ void helloWorldGPU(void)\n",
        "{\n",
        "    size_t idx = blockDim.x * blockIdx.x + threadIdx.x;\n",
        "\n",
        "    printf(\"Hello Wolrd GPU: idx: %ld\\n\", idx);\n",
        "}\n",
        "\n",
        "int main(void)\n",
        "{\n",
        "    helloWorldGPU<<<2, 2>>>();\n",
        "    cudaDeviceSynchronize();\n",
        "\n",
        "    return 0;\n",
        "}"
      ],
      "metadata": {
        "id": "pOrI1Pcu-7Xz",
        "outputId": "9f5813f0-00bf-4fb3-fd26-6966d32417b8",
        "colab": {
          "base_uri": "https://localhost:8080/"
        }
      },
      "execution_count": 41,
      "outputs": [
        {
          "output_type": "stream",
          "name": "stdout",
          "text": [
            "Hello Wolrd GPU: idx: 2\n",
            "Hello Wolrd GPU: idx: 3\n",
            "Hello Wolrd GPU: idx: 0\n",
            "Hello Wolrd GPU: idx: 1\n",
            "\n"
          ]
        }
      ]
    }
  ]
}